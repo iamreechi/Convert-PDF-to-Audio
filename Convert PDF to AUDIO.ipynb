{
 "cells": [
  {
   "cell_type": "code",
   "execution_count": 12,
   "metadata": {},
   "outputs": [],
   "source": [
    "from tkinter import Tk\n",
    "from tkinter.filedialog import askopenfilename\n",
    "import pdftotext\n",
    "from gtts import gTTS\n"
   ]
  },
  {
   "cell_type": "markdown",
   "metadata": {},
   "source": [
    "### How to install pdftotext"
   ]
  },
  {
   "cell_type": "markdown",
   "metadata": {},
   "source": [
    "#### Once you do the below method in the first picture below, then you can head to your Anaconda prompt to type\n",
    "\n",
    "#### conda install -c conda-forge poppler\n",
    "#### pips intall pdftotext \n",
    "![](Webpix.png)\n",
    "\n",
    "\n",
    "#### if you still encounter an error message after doing the method in the above  picture and just like this \n",
    "![](Webpix3.png)\n",
    "![](Webpix1.png\n",
    "\n",
    "#### Then do the following \n",
    "![](Webpix2.png)\n",
    "\n",
    "Credit to: **coderhaus** \n",
    "vist the link if you are still confuse https://coder.haus/2019/09/27/installing-pdftotext-through-pip-on-windows-10/\n",
    " "
   ]
  },
  {
   "cell_type": "code",
   "execution_count": 9,
   "metadata": {
    "scrolled": true
   },
   "outputs": [],
   "source": [
    "Tk().withdraw() # we don't want a full GUI, so keep the root window from appearing\n",
    "filelocation = askopenfilename() # open the dialog GUI. When the dialog opens locate the PDF and open"
   ]
  },
  {
   "cell_type": "code",
   "execution_count": 10,
   "metadata": {},
   "outputs": [],
   "source": [
    "with open(filelocation, \"rb\") as f:  # open the file in reading (rb) mode and call it f\n",
    "    pdf = pdftotext.PDF(f)  # store a text version of the pdf file f in pdf variable"
   ]
  },
  {
   "cell_type": "code",
   "execution_count": 11,
   "metadata": {},
   "outputs": [],
   "source": [
    "string_of_text = ''\n",
    "for text in pdf:\n",
    "    string_of_text += text"
   ]
  },
  {
   "cell_type": "code",
   "execution_count": null,
   "metadata": {},
   "outputs": [],
   "source": [
    "final_file = gTTS(text=string_of_text, lang='en')  # store file in variable\n",
    "final_file.save(\"Generated Speech.mp3\")  # save file to computer. This may take a little while depending on your PDF size"
   ]
  },
  {
   "cell_type": "markdown",
   "metadata": {},
   "source": [
    "Project:https://dev.to/mustafaanaskh99\n",
    "\n",
    "Author: Mustafa Anas"
   ]
  },
  {
   "cell_type": "code",
   "execution_count": null,
   "metadata": {},
   "outputs": [],
   "source": []
  }
 ],
 "metadata": {
  "kernelspec": {
   "display_name": "Python 3.6 (tensorflow)",
   "language": "python",
   "name": "tensorflow"
  },
  "language_info": {
   "codemirror_mode": {
    "name": "ipython",
    "version": 3
   },
   "file_extension": ".py",
   "mimetype": "text/x-python",
   "name": "python",
   "nbconvert_exporter": "python",
   "pygments_lexer": "ipython3",
   "version": "3.6.9"
  }
 },
 "nbformat": 4,
 "nbformat_minor": 2
}
